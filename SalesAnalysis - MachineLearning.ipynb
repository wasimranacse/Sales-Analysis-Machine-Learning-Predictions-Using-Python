{
 "cells": [
  {
   "cell_type": "markdown",
   "metadata": {},
   "source": [
    "Import required libraries"
   ]
  },
  {
   "cell_type": "code",
   "execution_count": 122,
   "metadata": {},
   "outputs": [],
   "source": [
    "import pandas as pd\n",
    "import numpy as np\n",
    "import matplotlib.pyplot as plt\n",
    "import seaborn as sns\n",
    "from sklearn.model_selection import train_test_split\n",
    "from sklearn.preprocessing import LabelEncoder\n",
    "from sklearn.linear_model import LinearRegression\n",
    "from sklearn.metrics import mean_squared_error\n"
   ]
  },
  {
   "cell_type": "markdown",
   "metadata": {},
   "source": [
    "Load the Data from the CSV"
   ]
  },
  {
   "cell_type": "code",
   "execution_count": 123,
   "metadata": {},
   "outputs": [
    {
     "data": {
      "text/html": [
       "<div>\n",
       "<style scoped>\n",
       "    .dataframe tbody tr th:only-of-type {\n",
       "        vertical-align: middle;\n",
       "    }\n",
       "\n",
       "    .dataframe tbody tr th {\n",
       "        vertical-align: top;\n",
       "    }\n",
       "\n",
       "    .dataframe thead th {\n",
       "        text-align: right;\n",
       "    }\n",
       "</style>\n",
       "<table border=\"1\" class=\"dataframe\">\n",
       "  <thead>\n",
       "    <tr style=\"text-align: right;\">\n",
       "      <th></th>\n",
       "      <th>Order Number</th>\n",
       "      <th>Order Status</th>\n",
       "      <th>Order Date</th>\n",
       "      <th>First Name (Billing)</th>\n",
       "      <th>Last Name (Billing)</th>\n",
       "      <th>Company (Billing)</th>\n",
       "      <th>Address 1&amp;2 (Billing)</th>\n",
       "      <th>City (Billing)</th>\n",
       "      <th>State Code (Billing)</th>\n",
       "      <th>Postcode (Billing)</th>\n",
       "      <th>...</th>\n",
       "      <th>Payment Method Title</th>\n",
       "      <th>Category</th>\n",
       "      <th>Product Name</th>\n",
       "      <th>Cart Discount Amount</th>\n",
       "      <th>Order Subtotal Amount</th>\n",
       "      <th>Shipping Method Title</th>\n",
       "      <th>Order Shipping Amount</th>\n",
       "      <th>Order Refund Amount</th>\n",
       "      <th>Order Total Amount</th>\n",
       "      <th>Discount Amount</th>\n",
       "    </tr>\n",
       "  </thead>\n",
       "  <tbody>\n",
       "    <tr>\n",
       "      <th>0</th>\n",
       "      <td>14132</td>\n",
       "      <td>Completed</td>\n",
       "      <td>9/30/2024 18:13</td>\n",
       "      <td>Christine</td>\n",
       "      <td>Sanchez</td>\n",
       "      <td>Sanchez Here Productions LLC</td>\n",
       "      <td>5150 Marton Road</td>\n",
       "      <td>Ann Arbor</td>\n",
       "      <td>MI</td>\n",
       "      <td>48108</td>\n",
       "      <td>...</td>\n",
       "      <td>PayPal - sanchezhereproductions@gmail.com</td>\n",
       "      <td>Custom Mix Ink (PMS),Ink,Screen Printing</td>\n",
       "      <td>Custom Mix Ink (PMS) - Quart</td>\n",
       "      <td>0.0</td>\n",
       "      <td>140.0</td>\n",
       "      <td>UPS® Ground</td>\n",
       "      <td>15.79</td>\n",
       "      <td>0.0</td>\n",
       "      <td>155.79</td>\n",
       "      <td>NaN</td>\n",
       "    </tr>\n",
       "    <tr>\n",
       "      <th>1</th>\n",
       "      <td>14132</td>\n",
       "      <td>Completed</td>\n",
       "      <td>9/30/2024 18:13</td>\n",
       "      <td>Christine</td>\n",
       "      <td>Sanchez</td>\n",
       "      <td>Sanchez Here Productions LLC</td>\n",
       "      <td>5150 Marton Road</td>\n",
       "      <td>Ann Arbor</td>\n",
       "      <td>MI</td>\n",
       "      <td>48108</td>\n",
       "      <td>...</td>\n",
       "      <td>PayPal - sanchezhereproductions@gmail.com</td>\n",
       "      <td>Custom Mix Ink (PMS),Ink,Screen Printing</td>\n",
       "      <td>Custom Mix Ink (PMS) - Quart</td>\n",
       "      <td>0.0</td>\n",
       "      <td>140.0</td>\n",
       "      <td>UPS® Ground</td>\n",
       "      <td>15.79</td>\n",
       "      <td>0.0</td>\n",
       "      <td>155.79</td>\n",
       "      <td>NaN</td>\n",
       "    </tr>\n",
       "    <tr>\n",
       "      <th>2</th>\n",
       "      <td>14132</td>\n",
       "      <td>Completed</td>\n",
       "      <td>9/30/2024 18:13</td>\n",
       "      <td>Christine</td>\n",
       "      <td>Sanchez</td>\n",
       "      <td>Sanchez Here Productions LLC</td>\n",
       "      <td>5150 Marton Road</td>\n",
       "      <td>Ann Arbor</td>\n",
       "      <td>MI</td>\n",
       "      <td>48108</td>\n",
       "      <td>...</td>\n",
       "      <td>PayPal - sanchezhereproductions@gmail.com</td>\n",
       "      <td>Custom Mix Ink (PMS),Ink,Screen Printing</td>\n",
       "      <td>Custom Mix Ink (PMS) - Quart</td>\n",
       "      <td>0.0</td>\n",
       "      <td>140.0</td>\n",
       "      <td>UPS® Ground</td>\n",
       "      <td>15.79</td>\n",
       "      <td>0.0</td>\n",
       "      <td>155.79</td>\n",
       "      <td>NaN</td>\n",
       "    </tr>\n",
       "    <tr>\n",
       "      <th>3</th>\n",
       "      <td>14132</td>\n",
       "      <td>Completed</td>\n",
       "      <td>9/30/2024 18:13</td>\n",
       "      <td>Christine</td>\n",
       "      <td>Sanchez</td>\n",
       "      <td>Sanchez Here Productions LLC</td>\n",
       "      <td>5150 Marton Road</td>\n",
       "      <td>Ann Arbor</td>\n",
       "      <td>MI</td>\n",
       "      <td>48108</td>\n",
       "      <td>...</td>\n",
       "      <td>PayPal - sanchezhereproductions@gmail.com</td>\n",
       "      <td>Custom Mix Ink (PMS),Ink,Screen Printing</td>\n",
       "      <td>Custom Mix Ink (PMS) - Quart</td>\n",
       "      <td>0.0</td>\n",
       "      <td>140.0</td>\n",
       "      <td>UPS® Ground</td>\n",
       "      <td>15.79</td>\n",
       "      <td>0.0</td>\n",
       "      <td>155.79</td>\n",
       "      <td>NaN</td>\n",
       "    </tr>\n",
       "    <tr>\n",
       "      <th>4</th>\n",
       "      <td>14131</td>\n",
       "      <td>Completed</td>\n",
       "      <td>9/30/2024 17:58</td>\n",
       "      <td>Jessica</td>\n",
       "      <td>Mobley</td>\n",
       "      <td>DESIGN 2 WEAR 2 LLC</td>\n",
       "      <td>1112 Central Ave</td>\n",
       "      <td>Middletown</td>\n",
       "      <td>OH</td>\n",
       "      <td>45044-4011</td>\n",
       "      <td>...</td>\n",
       "      <td>PayPal - design2wear2@yahoo.com</td>\n",
       "      <td>Easyweed HTV 15\" Fluorescent Yard,Heat Transfe...</td>\n",
       "      <td>EasyWeed®  HTV 15\" Fluorescent PINK Yard</td>\n",
       "      <td>75.0</td>\n",
       "      <td>242.5</td>\n",
       "      <td>UPS® Ground</td>\n",
       "      <td>10.69</td>\n",
       "      <td>0.0</td>\n",
       "      <td>178.19</td>\n",
       "      <td>75.0</td>\n",
       "    </tr>\n",
       "  </tbody>\n",
       "</table>\n",
       "<p>5 rows × 30 columns</p>\n",
       "</div>"
      ],
      "text/plain": [
       "   Order Number Order Status       Order Date First Name (Billing)  \\\n",
       "0         14132    Completed  9/30/2024 18:13            Christine   \n",
       "1         14132    Completed  9/30/2024 18:13            Christine   \n",
       "2         14132    Completed  9/30/2024 18:13            Christine   \n",
       "3         14132    Completed  9/30/2024 18:13            Christine   \n",
       "4         14131    Completed  9/30/2024 17:58              Jessica   \n",
       "\n",
       "  Last Name (Billing)             Company (Billing) Address 1&2 (Billing)  \\\n",
       "0             Sanchez  Sanchez Here Productions LLC      5150 Marton Road   \n",
       "1             Sanchez  Sanchez Here Productions LLC      5150 Marton Road   \n",
       "2             Sanchez  Sanchez Here Productions LLC      5150 Marton Road   \n",
       "3             Sanchez  Sanchez Here Productions LLC      5150 Marton Road   \n",
       "4              Mobley           DESIGN 2 WEAR 2 LLC      1112 Central Ave   \n",
       "\n",
       "  City (Billing) State Code (Billing) Postcode (Billing)  ...  \\\n",
       "0      Ann Arbor                   MI              48108  ...   \n",
       "1      Ann Arbor                   MI              48108  ...   \n",
       "2      Ann Arbor                   MI              48108  ...   \n",
       "3      Ann Arbor                   MI              48108  ...   \n",
       "4     Middletown                   OH         45044-4011  ...   \n",
       "\n",
       "                        Payment Method Title  \\\n",
       "0  PayPal - sanchezhereproductions@gmail.com   \n",
       "1  PayPal - sanchezhereproductions@gmail.com   \n",
       "2  PayPal - sanchezhereproductions@gmail.com   \n",
       "3  PayPal - sanchezhereproductions@gmail.com   \n",
       "4            PayPal - design2wear2@yahoo.com   \n",
       "\n",
       "                                            Category  \\\n",
       "0           Custom Mix Ink (PMS),Ink,Screen Printing   \n",
       "1           Custom Mix Ink (PMS),Ink,Screen Printing   \n",
       "2           Custom Mix Ink (PMS),Ink,Screen Printing   \n",
       "3           Custom Mix Ink (PMS),Ink,Screen Printing   \n",
       "4  Easyweed HTV 15\" Fluorescent Yard,Heat Transfe...   \n",
       "\n",
       "                               Product Name Cart Discount Amount  \\\n",
       "0              Custom Mix Ink (PMS) - Quart                  0.0   \n",
       "1              Custom Mix Ink (PMS) - Quart                  0.0   \n",
       "2              Custom Mix Ink (PMS) - Quart                  0.0   \n",
       "3              Custom Mix Ink (PMS) - Quart                  0.0   \n",
       "4  EasyWeed®  HTV 15\" Fluorescent PINK Yard                 75.0   \n",
       "\n",
       "  Order Subtotal Amount Shipping Method Title Order Shipping Amount  \\\n",
       "0                 140.0           UPS® Ground                 15.79   \n",
       "1                 140.0           UPS® Ground                 15.79   \n",
       "2                 140.0           UPS® Ground                 15.79   \n",
       "3                 140.0           UPS® Ground                 15.79   \n",
       "4                 242.5           UPS® Ground                 10.69   \n",
       "\n",
       "  Order Refund Amount Order Total Amount Discount Amount  \n",
       "0                 0.0             155.79             NaN  \n",
       "1                 0.0             155.79             NaN  \n",
       "2                 0.0             155.79             NaN  \n",
       "3                 0.0             155.79             NaN  \n",
       "4                 0.0             178.19            75.0  \n",
       "\n",
       "[5 rows x 30 columns]"
      ]
     },
     "execution_count": 123,
     "metadata": {},
     "output_type": "execute_result"
    }
   ],
   "source": [
    "# filePath = 'C:/Users/wasim/OneDrive/Desktop/MySQL/Data Analysis/AceOrders2324.csv'\n",
    "# filePath = 'C:/Users/wasim/Downloads/orders-2024-10-09-12-09-21.csv'\n",
    "OrderData = pd.read_csv('C:/Users/wasim/OneDrive/Desktop/MySQL/Data Analysis/Orders2324.csv')\n",
    "OrderData.head()"
   ]
  },
  {
   "cell_type": "markdown",
   "metadata": {},
   "source": [
    "Data Cleaning and Preprocessing"
   ]
  },
  {
   "cell_type": "code",
   "execution_count": 124,
   "metadata": {},
   "outputs": [
    {
     "name": "stdout",
     "output_type": "stream",
     "text": [
      "Order Number                  0\n",
      "Order Status                  0\n",
      "Order Date                    0\n",
      "First Name (Billing)          0\n",
      "Last Name (Billing)           0\n",
      "Company (Billing)           645\n",
      "Address 1&2 (Billing)         0\n",
      "City (Billing)                0\n",
      "State Code (Billing)          0\n",
      "Postcode (Billing)            0\n",
      "Country Code (Billing)        0\n",
      "Email (Billing)               0\n",
      "Phone (Billing)               0\n",
      "First Name (Shipping)         0\n",
      "Last Name (Shipping)          0\n",
      "Address 1&2 (Shipping)        0\n",
      "City (Shipping)               0\n",
      "State Code (Shipping)         0\n",
      "Postcode (Shipping)           0\n",
      "Country Code (Shipping)       0\n",
      "Payment Method Title          0\n",
      "Category                     37\n",
      "Product Name                 37\n",
      "Cart Discount Amount          0\n",
      "Order Subtotal Amount         0\n",
      "Shipping Method Title         0\n",
      "Order Shipping Amount         0\n",
      "Order Refund Amount           0\n",
      "Order Total Amount            0\n",
      "Discount Amount            1401\n",
      "dtype: int64\n"
     ]
    }
   ],
   "source": [
    "# Checking for missing values\n",
    "print(OrderData.isnull().sum())\n",
    "\n",
    "# Dropping rows with missing Order Total amounts\n",
    "OrderData = OrderData.dropna(subset=['Order Total Amount'])\n",
    "\n",
    "# Converting 'Order Date' to datetime format\n",
    "OrderData['Order Date'] = pd.to_datetime(OrderData['Order Date'])\n",
    "\n"
   ]
  },
  {
   "cell_type": "markdown",
   "metadata": {},
   "source": [
    "Data Analysis - Sales Comparison (2023 vs 2024)"
   ]
  },
  {
   "cell_type": "code",
   "execution_count": 125,
   "metadata": {},
   "outputs": [
    {
     "name": "stdout",
     "output_type": "stream",
     "text": [
      "Sales Comparison - 2023 vs 2024\n",
      "Total Sales in 2023: 134854.84000000003\n",
      "Total Sales in 2024: 178547.78999999998\n"
     ]
    }
   ],
   "source": [
    "# Extract year, month, and week from the 'Order Date'\n",
    "OrderData['Year'] = OrderData['Order Date'].dt.year\n",
    "OrderData['Month'] = OrderData['Order Date'].dt.month\n",
    "OrderData['Week'] = OrderData['Order Date'].dt.isocalendar().week\n",
    "\n",
    "# Sales comparison between 2023 and 2024\n",
    "sales_2023 = OrderData[OrderData['Year'] == 2023]['Order Total Amount'].sum()\n",
    "sales_2024 = OrderData[OrderData['Year'] == 2024]['Order Total Amount'].sum()\n",
    "\n",
    "print('Sales Comparison - 2023 vs 2024')\n",
    "print(f\"Total Sales in 2023: {sales_2023}\")\n",
    "print(f\"Total Sales in 2024: {sales_2024}\")\n"
   ]
  },
  {
   "cell_type": "markdown",
   "metadata": {},
   "source": [
    "Visualisation of Sales Over Time"
   ]
  },
  {
   "cell_type": "code",
   "execution_count": 126,
   "metadata": {},
   "outputs": [
    {
     "data": {
      "image/png": "[encoded data removed]",
      "text/plain": [
       "<Figure size 1600x600 with 1 Axes>"
      ]
     },
     "metadata": {},
     "output_type": "display_data"
    }
   ],
   "source": [
    "# Grouping data by year and month\n",
    "monthly_sales = OrderData.groupby(['Year', 'Month'])['Order Total Amount'].sum().unstack()\n",
    "\n",
    "# Plotting sales by year and month\n",
    "monthly_sales.plot(kind='bar', figsize=(16,6))\n",
    "plt.title('Monthly Sales Comparison (2023 vs 2024)')\n",
    "plt.xlabel('Month')\n",
    "plt.ylabel('Sales')\n",
    "plt.show()\n"
   ]
  },
  {
   "cell_type": "markdown",
   "metadata": {},
   "source": [
    "Top 10 Best Selling Categories by Amount"
   ]
  },
  {
   "cell_type": "code",
   "execution_count": 127,
   "metadata": {},
   "outputs": [
    {
     "name": "stdout",
     "output_type": "stream",
     "text": [
      "Top 10 best selling Categories\n"
     ]
    },
    {
     "data": {
      "text/plain": [
       "Category\n",
       "Adhesive Powder for DTF &amp; Plastisol Transfers,DTF &amp; Transfer Films/Adhesives,DTF/Plastisol Adhesive Powder    37341.30\n",
       "Easyweed HTV 12\" Yard,Heat Transfer Vinyl,HTV Yard                                                                    31296.47\n",
       "Easyweed HTV 15\" Yard,Heat Transfer Vinyl,HTV Yard                                                                    25836.64\n",
       "Ink,Triangle Plastisol Multi-Purpose Ink                                                                              11999.57\n",
       "Ink,Triangle Plastisol Inks High Opacity/Bleed Resistant Ink                                                           9401.44\n",
       "Emulsion,Screen Printing Chemicals,Textil PV                                                                           7998.42\n",
       "Alum. 23\"x31\" Screen,Screens                                                                                           7468.14\n",
       "EasyWeed® Glitter HTV 20\" Yard,Heat Transfer Vinyl,HTV Yard                                                            6529.28\n",
       "Easisolv 701N Screen Wash &amp; Stain Remover,Screen Printing Chemicals                                                5486.14\n",
       "Permanent Vinyl,Sign/Sticker Vinyl by Lumina                                                                           5372.67\n",
       "Name: Order Total Amount, dtype: float64"
      ]
     },
     "execution_count": 127,
     "metadata": {},
     "output_type": "execute_result"
    }
   ],
   "source": [
    "# # Group by Category and calculate the total sales per category\n",
    "best_selling_categories = OrderData.groupby('Category')['Order Total Amount'].sum().sort_values(ascending=False)\n",
    "\n",
    "# Display the top 10 best-selling categories\n",
    "print('Top 10 best selling Categories')\n",
    "best_selling_categories.head(10)\n"
   ]
  },
  {
   "cell_type": "markdown",
   "metadata": {},
   "source": [
    "Top 10 Best Selling Products by Amount"
   ]
  },
  {
   "cell_type": "code",
   "execution_count": 128,
   "metadata": {},
   "outputs": [
    {
     "name": "stdout",
     "output_type": "stream",
     "text": [
      "Top 10 Best-Selling Products by Order Amount:\n",
      "                                             Category  Order Total Amount\n",
      "144           Sublimation Ink/Paper,Sublimation Paper              388.32\n",
      "143            Siser Easy Subli,Sublimation Ink/Paper               57.79\n",
      "142       Siser Easy Subli Mask,Sublimation Ink/Paper               57.79\n",
      "141  Screen Printing Tools,Wood Handeled Squeegee 80D              187.03\n",
      "140  Screen Printing Tools,Wood Handeled Squeegee 70D              121.29\n",
      "139         Screen Printing Tools,Squeegee Catch Rods              291.34\n",
      "138          Screen Printing Tools,Squeegee Blade 70D              214.41\n",
      "137      Screen Printing Tools,Spot/Stain Removal Gun              146.50\n",
      "136  Screen Printing Tools,Screen Scrubber Refill Pad              100.32\n",
      "135       Screen Printing Tools,Screen Scrubber Fused             1192.63\n"
     ]
    }
   ],
   "source": [
    "# Group by product and sum the quantities sold\n",
    "top_products_by_quantity = OrderData.groupby('Category')['Order Total Amount'].sum().reset_index()\n",
    "\n",
    "# Sort by quantity in descending order and get the top 10\n",
    "top_products_by_quantity = top_products_by_quantity.sort_values(by='Category', ascending=False).head(10)\n",
    "\n",
    "print(\"Top 10 Best-Selling Products by Order Amount:\")\n",
    "print(top_products_by_quantity)\n"
   ]
  },
  {
   "cell_type": "markdown",
   "metadata": {},
   "source": [
    "Machine Learning Predictions"
   ]
  },
  {
   "cell_type": "code",
   "execution_count": 129,
   "metadata": {},
   "outputs": [],
   "source": [
    "# Encode categorical data\n",
    "label_encoder = LabelEncoder()\n",
    "\n",
    "OrderData['Category'] = label_encoder.fit_transform(OrderData['Category'])\n",
    "OrderData['Payment Method Title'] = label_encoder.fit_transform(OrderData['Payment Method Title'])\n",
    "\n",
    "# Features and target variable\n",
    "X = OrderData[['Year', 'Month', 'Week', 'Category', 'Payment Method Title']]\n",
    "y = OrderData['Order Total Amount']\n",
    "\n",
    "# Splitting the dataset into training and test sets\n",
    "X_train, X_test, y_train, y_test = train_test_split(X, y, test_size=0.2, random_state=42)\n"
   ]
  },
  {
   "cell_type": "markdown",
   "metadata": {},
   "source": [
    "Training the Model"
   ]
  },
  {
   "cell_type": "code",
   "execution_count": 130,
   "metadata": {},
   "outputs": [
    {
     "name": "stdout",
     "output_type": "stream",
     "text": [
      "Mean Squared Error: 48454.060134856394\n"
     ]
    }
   ],
   "source": [
    "# Initialize and train the Linear Regression model\n",
    "model = LinearRegression()\n",
    "model.fit(X_train, y_train)\n",
    "\n",
    "# Predictions\n",
    "y_pred = model.predict(X_test)\n",
    "mse = mean_squared_error(y_test, y_pred)\n",
    "print(f\"Mean Squared Error: {mse}\")\n"
   ]
  },
  {
   "cell_type": "markdown",
   "metadata": {},
   "source": [
    "Future Sales Prediction - Using the trained model to predict future sales of 2025"
   ]
  },
  {
   "cell_type": "code",
   "execution_count": 131,
   "metadata": {},
   "outputs": [
    {
     "name": "stdout",
     "output_type": "stream",
     "text": [
      "Predicted Order Total for future data for 2025: 320.52744363763486\n"
     ]
    }
   ],
   "source": [
    "# Separate LabelEncoders for each column\n",
    "label_encoder_category = LabelEncoder()\n",
    "label_encoder_payment = LabelEncoder()\n",
    "\n",
    "# Fit the label encoders on the training data\n",
    "categories = ['Ink', 'HTV Yard', 'Aerosols', 'Heat Transfer Vinyl']  \n",
    "payment_methods = ['Credit Card', 'PayPal']\n",
    "\n",
    "label_encoder_category.fit(categories)\n",
    "label_encoder_payment.fit(payment_methods)\n",
    "\n",
    "# Future prediction \n",
    "future_data = pd.DataFrame({\n",
    "    'Year': [2025],\n",
    "    'Month': [10],\n",
    "    'Week': [42],\n",
    "    'Category': [label_encoder_category.transform(['Ink'])[0]],  \n",
    "    'Payment Method Title': [label_encoder_payment.transform(['Credit Card'])[0]]\n",
    "})\n",
    "\n",
    "# Make the prediction\n",
    "future_prediction = model.predict(future_data)\n",
    "print(f\"Predicted Order Total for future data for 2025: {future_prediction[0]}\")\n",
    "\n"
   ]
  }
 ],
 "metadata": {
  "kernelspec": {
   "display_name": "AceScreenSupply",
   "language": "python",
   "name": "python3"
  },
  "language_info": {
   "codemirror_mode": {
    "name": "ipython",
    "version": 3
   },
   "file_extension": ".py",
   "mimetype": "text/x-python",
   "name": "python",
   "nbconvert_exporter": "python",
   "pygments_lexer": "ipython3",
   "version": "3.11.9"
  }
 },
 "nbformat": 4,
 "nbformat_minor": 2
}
